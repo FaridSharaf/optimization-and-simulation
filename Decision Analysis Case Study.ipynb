{
 "cells": [
  {
   "cell_type": "code",
   "execution_count": 188,
   "metadata": {},
   "outputs": [],
   "source": [
    "import pandas as pd\n",
    "import numpy as np\n",
    "\n",
    "import matplotlib.pyplot as plt\n",
    "import seaborn as sns"
   ]
  },
  {
   "cell_type": "code",
   "execution_count": 53,
   "metadata": {},
   "outputs": [],
   "source": [
    "revenues_2021 = pd.read_csv('./2021_revenues.csv', header=None)\n",
    "m_revenues = pd.read_csv('./marketeer_revenues.csv', header=None)\n",
    "m_lvl_prob = pd.read_csv('./marketeer_level_prob.csv', header=None)\n",
    "m_capacity_decision = pd.read_csv('./marketer_capacity_decision.csv', header=None)"
   ]
  },
  {
   "cell_type": "code",
   "execution_count": 54,
   "metadata": {},
   "outputs": [
    {
     "data": {
      "text/plain": [
       "array([[[7393, 5395, 2000, 7943, 2489, 7138],\n",
       "        [3884, 6947, 5005, 2340, 5722, 2500],\n",
       "        [5875, 6887, 6886, 6376, 5746, 5026]],\n",
       "\n",
       "       [[3808, 7575, 2895, 5088, 5314, 4970],\n",
       "        [5147, 4543, 5806, 6231, 2949, 6977],\n",
       "        [3207, 5089, 5041, 7227, 3231, 7292]],\n",
       "\n",
       "       [[5408, 3006, 3163, 7681, 5499, 2045],\n",
       "        [6387, 2071, 6598, 4951, 6254, 5376],\n",
       "        [2779, 6361, 5796, 6520, 5184, 4047]],\n",
       "\n",
       "       [[2181, 7554, 2675, 7312, 7436, 3795],\n",
       "        [7343, 7177, 5991, 3592, 2157, 5297],\n",
       "        [6551, 4564, 7081, 7600, 3971, 7210]],\n",
       "\n",
       "       [[5820, 6271, 5180, 7041, 5306, 4947],\n",
       "        [3536, 2478, 5011, 7256, 4681, 4364],\n",
       "        [6714, 4198, 5337, 7468, 4781, 6669]],\n",
       "\n",
       "       [[4695, 6978, 2783, 3306, 4014, 3795],\n",
       "        [6965, 4800, 2565, 2401, 5126, 4884],\n",
       "        [6713, 4583, 5705, 2047, 4565, 3672]],\n",
       "\n",
       "       [[7320, 6005, 7550, 2061, 4116, 5946],\n",
       "        [3902, 2759, 3274, 3043, 2520, 6465],\n",
       "        [5037, 6955, 5534, 4886, 5695, 6468]],\n",
       "\n",
       "       [[6071, 3310, 6150, 7597, 2304, 3673],\n",
       "        [7393, 5044, 3842, 6726, 4331, 3177],\n",
       "        [6438, 7656, 7769, 4531, 2358, 7969]]], dtype=int64)"
      ]
     },
     "execution_count": 54,
     "metadata": {},
     "output_type": "execute_result"
    }
   ],
   "source": [
    "# reshape the vector to have the same shape of the required array for the six years\n",
    "m_revenues = np.array(m_revenues).reshape(8 ,3, 6)\n",
    "m_revenues"
   ]
  },
  {
   "cell_type": "code",
   "execution_count": 55,
   "metadata": {},
   "outputs": [
    {
     "data": {
      "text/plain": [
       "array([[0.24576477, 0.24154581, 0.13299161, 0.05851051, 0.14789063,\n",
       "        0.17329667],\n",
       "       [0.11530339, 0.0323602 , 0.04184019, 0.17041022, 0.3287662 ,\n",
       "        0.3113198 ],\n",
       "       [0.45585421, 0.21272441, 0.10848857, 0.00140342, 0.04105573,\n",
       "        0.18047366],\n",
       "       [0.07902593, 0.07656787, 0.13680146, 0.16901634, 0.25846189,\n",
       "        0.28012649],\n",
       "       [0.18774931, 0.2462164 , 0.1630849 , 0.14419076, 0.0606472 ,\n",
       "        0.19811144],\n",
       "       [0.46036776, 0.00427948, 0.17563501, 0.29145957, 0.04676519,\n",
       "        0.021493  ],\n",
       "       [0.01138155, 0.14836236, 0.33008233, 0.1400916 , 0.06173792,\n",
       "        0.30834424],\n",
       "       [0.41855265, 0.0805915 , 0.12690114, 0.12182171, 0.22560791,\n",
       "        0.02652509]])"
      ]
     },
     "execution_count": 55,
     "metadata": {},
     "output_type": "execute_result"
    }
   ],
   "source": [
    "# Split the probability array for the 8 years.\n",
    "m_lvl_prob = np.array(m_lvl_prob).reshape(8, 6)\n",
    "m_lvl_prob"
   ]
  },
  {
   "cell_type": "code",
   "execution_count": 56,
   "metadata": {
    "scrolled": true
   },
   "outputs": [
    {
     "data": {
      "text/plain": [
       "array([[2013,    1],\n",
       "       [2014,    1],\n",
       "       [2015,    3],\n",
       "       [2016,    2],\n",
       "       [2017,    1],\n",
       "       [2018,    1],\n",
       "       [2019,    2],\n",
       "       [2020,    3]], dtype=int64)"
      ]
     },
     "execution_count": 56,
     "metadata": {},
     "output_type": "execute_result"
    }
   ],
   "source": [
    "m_capacity_decision = np.array(m_capacity_decision)\n",
    "m_capacity_decision"
   ]
  },
  {
   "cell_type": "code",
   "execution_count": 107,
   "metadata": {},
   "outputs": [
    {
     "data": {
      "text/plain": [
       "[1, 1, 3, 2, 1, 1, 2, 3]"
      ]
     },
     "execution_count": 107,
     "metadata": {},
     "output_type": "execute_result"
    }
   ],
   "source": [
    "# Business decisions\n",
    "business_decisions = []\n",
    "for i in range(len(m_capacity_decision)):\n",
    "    business_decisions.append(m_capacity_decision[i][1])\n",
    "    \n",
    "business_decisions"
   ]
  },
  {
   "cell_type": "markdown",
   "metadata": {},
   "source": [
    "# 1.a. Expected Opportunity Loss - EOL"
   ]
  },
  {
   "cell_type": "code",
   "execution_count": 57,
   "metadata": {},
   "outputs": [
    {
     "data": {
      "text/plain": [
       "array([7393, 6947, 6886, 7943, 5746, 7138], dtype=int64)"
      ]
     },
     "execution_count": 57,
     "metadata": {},
     "output_type": "execute_result"
    }
   ],
   "source": [
    "# find max element in each column in the matrix for the first year\n",
    "m_revenues[0].max(axis=0)"
   ]
  },
  {
   "cell_type": "code",
   "execution_count": 58,
   "metadata": {},
   "outputs": [
    {
     "data": {
      "text/plain": [
       "array([[7393, 5395, 2000, 7943, 2489, 7138],\n",
       "       [3884, 6947, 5005, 2340, 5722, 2500],\n",
       "       [5875, 6887, 6886, 6376, 5746, 5026]], dtype=int64)"
      ]
     },
     "execution_count": 58,
     "metadata": {},
     "output_type": "execute_result"
    }
   ],
   "source": [
    "# payoff matrix for the first year\n",
    "m_revenues[0]"
   ]
  },
  {
   "cell_type": "code",
   "execution_count": 59,
   "metadata": {},
   "outputs": [
    {
     "data": {
      "text/plain": [
       "array([[   0, 1552, 4886,    0, 3257,    0],\n",
       "       [3509,    0, 1881, 5603,   24, 4638],\n",
       "       [1518,   60,    0, 1567,    0, 2112]], dtype=int64)"
      ]
     },
     "execution_count": 59,
     "metadata": {},
     "output_type": "execute_result"
    }
   ],
   "source": [
    "# Year 1 regret matrix\n",
    "regret_mat = m_revenues[0].max(axis=0) - m_revenues[0]\n",
    "regret_mat"
   ]
  },
  {
   "cell_type": "code",
   "execution_count": 60,
   "metadata": {},
   "outputs": [
    {
     "data": {
      "text/plain": [
       "array([1506.35588339, 2247.67953198,  845.25221067])"
      ]
     },
     "execution_count": 60,
     "metadata": {},
     "output_type": "execute_result"
    }
   ],
   "source": [
    "# Calculate regret for year 1\n",
    "EOL = np.dot(regret_mat, m_lvl_prob[0])\n",
    "EOL"
   ]
  },
  {
   "cell_type": "code",
   "execution_count": 61,
   "metadata": {},
   "outputs": [
    {
     "data": {
      "text/plain": [
       "845.2522106745994"
      ]
     },
     "execution_count": 61,
     "metadata": {},
     "output_type": "execute_result"
    }
   ],
   "source": [
    "# get the minimum OL \n",
    "EOL.min()"
   ]
  },
  {
   "cell_type": "code",
   "execution_count": 62,
   "metadata": {},
   "outputs": [
    {
     "data": {
      "text/plain": [
       "3"
      ]
     },
     "execution_count": 62,
     "metadata": {},
     "output_type": "execute_result"
    }
   ],
   "source": [
    "# get the lowest OL decision\n",
    "EOL.argmin()+1"
   ]
  },
  {
   "cell_type": "code",
   "execution_count": 100,
   "metadata": {},
   "outputs": [],
   "source": [
    "# making it a function\n",
    "def calc_EOL(revenues, prob):\n",
    "    # year regret matrix\n",
    "    regret_mat = revenues.max(axis=0) - revenues\n",
    "    # Calculate regret \n",
    "    EOL = np.dot(regret_mat, prob)\n",
    "    \n",
    "    return EOL"
   ]
  },
  {
   "cell_type": "code",
   "execution_count": 102,
   "metadata": {},
   "outputs": [
    {
     "data": {
      "text/plain": [
       "[array([1506.35588339, 2247.67953198,  845.25221067]),\n",
       " array([1363.58007962, 1143.44249307, 1020.96376585]),\n",
       " array([2164.7847467 ,  916.41906328, 2017.13831639]),\n",
       " array([2015.98780702, 2755.69950946, 1187.09693806]),\n",
       " array([ 596.16956028, 2108.85159086,  542.24637107]),\n",
       " array([1633.64908322,  824.58555038,  545.49439881]),\n",
       " array([ 795.14289068, 2527.99437713,  691.43003996]),\n",
       " array([1680.28922826,  942.06071475, 1218.34755347])]"
      ]
     },
     "execution_count": 102,
     "metadata": {},
     "output_type": "execute_result"
    }
   ],
   "source": [
    "# find regret for all years\n",
    "EOL_per_year = []\n",
    "for i in range(len(m_revenues)):\n",
    "    EOL_per_year.append(calc_EOL(m_revenues[i], m_lvl_prob[i]))\n",
    "    \n",
    "EOL_per_year"
   ]
  },
  {
   "cell_type": "code",
   "execution_count": 176,
   "metadata": {},
   "outputs": [
    {
     "data": {
      "text/plain": [
       "[3, 3, 2, 3, 3, 3, 3, 2]"
      ]
     },
     "execution_count": 176,
     "metadata": {},
     "output_type": "execute_result"
    }
   ],
   "source": [
    "# return the decisions taken for each year\n",
    "EOL_decision = []\n",
    "for i in range(len(EOL_per_year)):\n",
    "    EOL_decision.append(EOL_per_year[i].argmin()+1)\n",
    "    \n",
    "EOL_decision"
   ]
  },
  {
   "cell_type": "code",
   "execution_count": 177,
   "metadata": {},
   "outputs": [
    {
     "data": {
      "text/plain": [
       "<AxesSubplot:ylabel='Frequency'>"
      ]
     },
     "execution_count": 177,
     "metadata": {},
     "output_type": "execute_result"
    },
    {
     "data": {
      "image/png": "[encoded data removed]",
      "text/plain": [
       "<Figure size 432x288 with 1 Axes>"
      ]
     },
     "metadata": {
      "needs_background": "light"
     },
     "output_type": "display_data"
    }
   ],
   "source": [
    "EOL_decision_df = pd.DataFrame(EOL_decision)\n",
    "EOL_decision_df.plot.hist()"
   ]
  },
  {
   "cell_type": "code",
   "execution_count": 108,
   "metadata": {},
   "outputs": [
    {
     "data": {
      "text/plain": [
       "[1, 1, 3, 2, 1, 1, 2, 3]"
      ]
     },
     "execution_count": 108,
     "metadata": {},
     "output_type": "execute_result"
    }
   ],
   "source": [
    "business_decisions"
   ]
  },
  {
   "cell_type": "markdown",
   "metadata": {},
   "source": [
    "We can notice that business lost money in first, third, fifth and eighth year.  \n",
    "Our decision based on EOL could have saved much money for the business."
   ]
  },
  {
   "cell_type": "markdown",
   "metadata": {},
   "source": [
    "=================================================================================================================="
   ]
  },
  {
   "cell_type": "markdown",
   "metadata": {},
   "source": [
    "# 1.b Expected Monetary Value -  EMV "
   ]
  },
  {
   "cell_type": "markdown",
   "metadata": {},
   "source": [
    "Multiply the probabiliy of the year in the payoff matrix"
   ]
  },
  {
   "cell_type": "code",
   "execution_count": 64,
   "metadata": {},
   "outputs": [
    {
     "name": "stdout",
     "output_type": "stream",
     "text": [
      "[0.24576477 0.24154581 0.13299161 0.05851051 0.14789063 0.17329667] \n",
      "\n",
      "[[7393 5395 2000 7943 2489 7138]\n",
      " [3884 6947 5005 2340 5722 2500]\n",
      " [5875 6887 6886 6376 5746 5026]]\n"
     ]
    }
   ],
   "source": [
    "# Prob for first year(2013)\n",
    "print(m_lvl_prob[0], '\\n')\n",
    "# Matrix for first year(2013)\n",
    "print(m_revenues[0])"
   ]
  },
  {
   "cell_type": "code",
   "execution_count": 65,
   "metadata": {},
   "outputs": [
    {
     "data": {
      "text/plain": [
       "array([5455.90220812, 4714.57855954, 6117.00588084])"
      ]
     },
     "execution_count": 65,
     "metadata": {},
     "output_type": "execute_result"
    }
   ],
   "source": [
    "# multiply i-th element in i-th column\n",
    "EMV = np.dot(m_revenues[0], m_lvl_prob[0])\n",
    "EMV"
   ]
  },
  {
   "cell_type": "code",
   "execution_count": 66,
   "metadata": {},
   "outputs": [],
   "source": [
    "def calc_EMV(prob, revenues):\n",
    "    # multiply i-th element in i-th column\n",
    "    EMV = np.dot(revenues, prob)\n",
    "    return EMV"
   ]
  },
  {
   "cell_type": "markdown",
   "metadata": {},
   "source": [
    "##### EMV per year"
   ]
  },
  {
   "cell_type": "code",
   "execution_count": 67,
   "metadata": {},
   "outputs": [
    {
     "data": {
      "text/plain": [
       "[array([5455.90220812, 4714.57855954, 6117.00588084]),\n",
       " array([4966.70135007, 5186.83893662, 5309.31766385]),\n",
       " array([4053.47225525, 5301.83793868, 4201.11868556]),\n",
       " array([5337.54336265, 4597.83166021, 6166.43423161]),\n",
       " array([5798.60222982, 4285.92019924, 5852.52541903]),\n",
       " array([3912.92776853, 4721.99130137, 5001.08245294]),\n",
       " array([5842.60740595, 4109.7559195 , 5946.32025667]),\n",
       " array([5130.93983598, 5869.16834949, 5592.88151078])]"
      ]
     },
     "execution_count": 67,
     "metadata": {},
     "output_type": "execute_result"
    }
   ],
   "source": [
    "EMV_per_year = []\n",
    "for i in range(len(m_revenues)):\n",
    "    EMV_per_year.append(calc_EMV(m_lvl_prob[i], m_revenues[i]))\n",
    "    \n",
    "EMV_per_year"
   ]
  },
  {
   "cell_type": "code",
   "execution_count": 68,
   "metadata": {},
   "outputs": [
    {
     "data": {
      "text/plain": [
       "[6117.005880838689,\n",
       " 5309.317663847139,\n",
       " 5301.837938675208,\n",
       " 6166.434231611513,\n",
       " 5852.525419026457,\n",
       " 5001.082452938969,\n",
       " 5946.320256672174,\n",
       " 5869.168349492563]"
      ]
     },
     "execution_count": 68,
     "metadata": {},
     "output_type": "execute_result"
    }
   ],
   "source": [
    "# return the EMV Payoff for each year\n",
    "EMV_payoff = []\n",
    "for i in range(len(EMV_per_year)):\n",
    "    EMV_payoff.append(EMV_per_year[i].max())\n",
    "\n",
    "EMV_payoff"
   ]
  },
  {
   "cell_type": "code",
   "execution_count": 69,
   "metadata": {},
   "outputs": [
    {
     "data": {
      "text/plain": [
       "[3, 3, 2, 3, 3, 3, 3, 2]"
      ]
     },
     "execution_count": 69,
     "metadata": {},
     "output_type": "execute_result"
    }
   ],
   "source": [
    "# return the decisions taken for each year\n",
    "EMV_decision = []\n",
    "for i in range(len(EMV_per_year)):\n",
    "    EMV_decision.append(EMV_per_year[i].argmax()+1)\n",
    "    \n",
    "EMV_decision"
   ]
  },
  {
   "cell_type": "code",
   "execution_count": 172,
   "metadata": {},
   "outputs": [
    {
     "data": {
      "text/plain": [
       "<AxesSubplot:ylabel='Frequency'>"
      ]
     },
     "execution_count": 172,
     "metadata": {},
     "output_type": "execute_result"
    },
    {
     "data": {
      "image/png": "[encoded data removed]",
      "text/plain": [
       "<Figure size 432x288 with 1 Axes>"
      ]
     },
     "metadata": {
      "needs_background": "light"
     },
     "output_type": "display_data"
    }
   ],
   "source": [
    "EMV_decision_df = pd.DataFrame(EMV_decision)\n",
    "EMV_decision_df.plot.hist()"
   ]
  },
  {
   "cell_type": "code",
   "execution_count": 109,
   "metadata": {},
   "outputs": [
    {
     "data": {
      "text/plain": [
       "[1, 1, 3, 2, 1, 1, 2, 3]"
      ]
     },
     "execution_count": 109,
     "metadata": {},
     "output_type": "execute_result"
    }
   ],
   "source": [
    "business_decisions"
   ]
  },
  {
   "cell_type": "code",
   "execution_count": 95,
   "metadata": {},
   "outputs": [
    {
     "data": {
      "text/plain": [
       "[5455.902208121184,\n",
       " 4966.70135007345,\n",
       " 4201.118685558187,\n",
       " 4597.831660210599,\n",
       " 5798.602229821516,\n",
       " 3912.927768526715,\n",
       " 4109.755919500261,\n",
       " 5592.881510777901]"
      ]
     },
     "execution_count": 95,
     "metadata": {},
     "output_type": "execute_result"
    }
   ],
   "source": [
    "# Business payoff\n",
    "business_payoff = []\n",
    "for i in range(len(EMV_per_year)):\n",
    "    business_payoff.append(EMV_per_year[i][business_decisions[i]-1])\n",
    "    \n",
    "business_payoff"
   ]
  },
  {
   "cell_type": "code",
   "execution_count": 72,
   "metadata": {},
   "outputs": [
    {
     "data": {
      "text/html": [
       "<div>\n",
       "<style scoped>\n",
       "    .dataframe tbody tr th:only-of-type {\n",
       "        vertical-align: middle;\n",
       "    }\n",
       "\n",
       "    .dataframe tbody tr th {\n",
       "        vertical-align: top;\n",
       "    }\n",
       "\n",
       "    .dataframe thead th {\n",
       "        text-align: right;\n",
       "    }\n",
       "</style>\n",
       "<table border=\"1\" class=\"dataframe\">\n",
       "  <thead>\n",
       "    <tr style=\"text-align: right;\">\n",
       "      <th></th>\n",
       "      <th>2013</th>\n",
       "      <th>2014</th>\n",
       "      <th>2015</th>\n",
       "      <th>2016</th>\n",
       "      <th>2017</th>\n",
       "      <th>2018</th>\n",
       "      <th>2019</th>\n",
       "      <th>2020</th>\n",
       "    </tr>\n",
       "  </thead>\n",
       "  <tbody>\n",
       "    <tr>\n",
       "      <th>0</th>\n",
       "      <td>-661.103673</td>\n",
       "      <td>-342.616314</td>\n",
       "      <td>-1100.719253</td>\n",
       "      <td>-1568.602571</td>\n",
       "      <td>-53.923189</td>\n",
       "      <td>-1088.154684</td>\n",
       "      <td>-1836.564337</td>\n",
       "      <td>-276.286839</td>\n",
       "    </tr>\n",
       "  </tbody>\n",
       "</table>\n",
       "</div>"
      ],
      "text/plain": [
       "         2013        2014         2015         2016       2017         2018  \\\n",
       "0 -661.103673 -342.616314 -1100.719253 -1568.602571 -53.923189 -1088.154684   \n",
       "\n",
       "          2019        2020  \n",
       "0 -1836.564337 -276.286839  "
      ]
     },
     "execution_count": 72,
     "metadata": {},
     "output_type": "execute_result"
    }
   ],
   "source": [
    "# EMV_payoff - business_payoff\n",
    "difference = []\n",
    "\n",
    "zip_object = zip(EMV_payoff, business_payoff)\n",
    "for list1_i, list2_i in zip_object:\n",
    "    difference.append(list2_i-list1_i)\n",
    "    \n",
    "difference_df = pd.DataFrame(difference).T\n",
    "difference_df.columns = ['2013', '2014', '2015', '2016', '2017', '2018', '2019', '2020'] \n",
    " \n",
    "difference_df"
   ]
  },
  {
   "cell_type": "markdown",
   "metadata": {},
   "source": [
    "The analysis of shows that The business tool the wrong decison every year. \n",
    "we recommend following the EMV Solution to achieve better results."
   ]
  },
  {
   "cell_type": "markdown",
   "metadata": {},
   "source": [
    "# 2.a. The Very Optimistic Decision Maker "
   ]
  },
  {
   "cell_type": "markdown",
   "metadata": {},
   "source": [
    "Apply the Maxi-Max method to get revenues and Action"
   ]
  },
  {
   "cell_type": "code",
   "execution_count": 132,
   "metadata": {},
   "outputs": [
    {
     "data": {
      "text/plain": [
       "7943"
      ]
     },
     "execution_count": 132,
     "metadata": {},
     "output_type": "execute_result"
    }
   ],
   "source": [
    "# get maxi-max revenue for first year\n",
    "m_revenues[0].max(axis=1).max()"
   ]
  },
  {
   "cell_type": "code",
   "execution_count": 134,
   "metadata": {},
   "outputs": [
    {
     "data": {
      "text/plain": [
       "[7943, 7575, 7681, 7600, 7468, 6978, 7550, 7969]"
      ]
     },
     "execution_count": 134,
     "metadata": {},
     "output_type": "execute_result"
    }
   ],
   "source": [
    "maxi_max_values = []\n",
    "maxi_max_decisions = []\n",
    "for i in range(len(m_revenues)):\n",
    "    maxi_max_values.append(m_revenues[i].max(axis=1).max())\n",
    "    \n",
    "    # get maxi-max decision for first year\n",
    "    maxi_max_decisions.append(m_revenues[i].max(axis=1).argmax()+1)\n",
    "\n",
    "maxi_max_list"
   ]
  },
  {
   "cell_type": "code",
   "execution_count": 179,
   "metadata": {},
   "outputs": [
    {
     "data": {
      "text/html": [
       "<div>\n",
       "<style scoped>\n",
       "    .dataframe tbody tr th:only-of-type {\n",
       "        vertical-align: middle;\n",
       "    }\n",
       "\n",
       "    .dataframe tbody tr th {\n",
       "        vertical-align: top;\n",
       "    }\n",
       "\n",
       "    .dataframe thead th {\n",
       "        text-align: right;\n",
       "    }\n",
       "</style>\n",
       "<table border=\"1\" class=\"dataframe\">\n",
       "  <thead>\n",
       "    <tr style=\"text-align: right;\">\n",
       "      <th></th>\n",
       "      <th>2013</th>\n",
       "      <th>2014</th>\n",
       "      <th>2015</th>\n",
       "      <th>2016</th>\n",
       "      <th>2017</th>\n",
       "      <th>2018</th>\n",
       "      <th>2019</th>\n",
       "      <th>2020</th>\n",
       "    </tr>\n",
       "  </thead>\n",
       "  <tbody>\n",
       "    <tr>\n",
       "      <th>0</th>\n",
       "      <td>-2487.097792</td>\n",
       "      <td>-2608.29865</td>\n",
       "      <td>-3479.881314</td>\n",
       "      <td>-3002.16834</td>\n",
       "      <td>-1669.39777</td>\n",
       "      <td>-3065.072231</td>\n",
       "      <td>-3440.24408</td>\n",
       "      <td>-2376.118489</td>\n",
       "    </tr>\n",
       "  </tbody>\n",
       "</table>\n",
       "</div>"
      ],
      "text/plain": [
       "          2013        2014         2015        2016        2017         2018  \\\n",
       "0 -2487.097792 -2608.29865 -3479.881314 -3002.16834 -1669.39777 -3065.072231   \n",
       "\n",
       "         2019         2020  \n",
       "0 -3440.24408 -2376.118489  "
      ]
     },
     "execution_count": 179,
     "metadata": {},
     "output_type": "execute_result"
    }
   ],
   "source": [
    "# Maxi_Max - business_payoff\n",
    "difference = []\n",
    "\n",
    "zip_object = zip(maxi_max_list, business_payoff)\n",
    "for list1_i, list2_i in zip_object:\n",
    "    difference.append(list2_i-list1_i)\n",
    "    \n",
    "difference_df = pd.DataFrame(difference).T\n",
    "difference_df.columns = ['2013', '2014', '2015', '2016', '2017', '2018', '2019', '2020'] \n",
    " \n",
    "difference_df"
   ]
  },
  {
   "cell_type": "code",
   "execution_count": 135,
   "metadata": {},
   "outputs": [
    {
     "data": {
      "text/plain": [
       "[1, 1, 1, 3, 3, 1, 1, 3]"
      ]
     },
     "execution_count": 135,
     "metadata": {},
     "output_type": "execute_result"
    }
   ],
   "source": [
    "maxi_max_decisions"
   ]
  },
  {
   "cell_type": "code",
   "execution_count": 173,
   "metadata": {},
   "outputs": [
    {
     "data": {
      "text/plain": [
       "<AxesSubplot:ylabel='Frequency'>"
      ]
     },
     "execution_count": 173,
     "metadata": {},
     "output_type": "execute_result"
    },
    {
     "data": {
      "image/png": "[encoded data removed]",
      "text/plain": [
       "<Figure size 432x288 with 1 Axes>"
      ]
     },
     "metadata": {
      "needs_background": "light"
     },
     "output_type": "display_data"
    }
   ],
   "source": [
    "maxi_max_decision_df = pd.DataFrame(maxi_max_decisions)\n",
    "maxi_max_decision_df.plot.hist()"
   ]
  },
  {
   "cell_type": "markdown",
   "metadata": {},
   "source": [
    "# 2.a. The Very Pessimistic Decision Maker "
   ]
  },
  {
   "cell_type": "code",
   "execution_count": 126,
   "metadata": {},
   "outputs": [
    {
     "data": {
      "text/plain": [
       "2000"
      ]
     },
     "execution_count": 126,
     "metadata": {},
     "output_type": "execute_result"
    }
   ],
   "source": [
    "# get maxi-max revenue for first year\n",
    "m_revenues[0].min(axis=1).min()"
   ]
  },
  {
   "cell_type": "code",
   "execution_count": 128,
   "metadata": {},
   "outputs": [
    {
     "data": {
      "text/plain": [
       "1"
      ]
     },
     "execution_count": 128,
     "metadata": {},
     "output_type": "execute_result"
    }
   ],
   "source": [
    "# get maxi-max decision for first year\n",
    "m_revenues[0].min(axis=1).argmin()+1"
   ]
  },
  {
   "cell_type": "code",
   "execution_count": 137,
   "metadata": {},
   "outputs": [
    {
     "data": {
      "text/plain": [
       "[2000, 2895, 2045, 2157, 2478, 2047, 2061, 2304]"
      ]
     },
     "execution_count": 137,
     "metadata": {},
     "output_type": "execute_result"
    }
   ],
   "source": [
    "maxi_min_values = []\n",
    "maxi_min_decisions = []\n",
    "for i in range(len(m_revenues)):\n",
    "    maxi_min_values.append(m_revenues[i].min(axis=1).min())\n",
    "    \n",
    "    # get maxi-max decision for first year\n",
    "    maxi_min_decisions.append(m_revenues[i].min(axis=1).argmin()+1)\n",
    "\n",
    "maxi_min_values"
   ]
  },
  {
   "cell_type": "code",
   "execution_count": 180,
   "metadata": {},
   "outputs": [
    {
     "data": {
      "text/html": [
       "<div>\n",
       "<style scoped>\n",
       "    .dataframe tbody tr th:only-of-type {\n",
       "        vertical-align: middle;\n",
       "    }\n",
       "\n",
       "    .dataframe tbody tr th {\n",
       "        vertical-align: top;\n",
       "    }\n",
       "\n",
       "    .dataframe thead th {\n",
       "        text-align: right;\n",
       "    }\n",
       "</style>\n",
       "<table border=\"1\" class=\"dataframe\">\n",
       "  <thead>\n",
       "    <tr style=\"text-align: right;\">\n",
       "      <th></th>\n",
       "      <th>2013</th>\n",
       "      <th>2014</th>\n",
       "      <th>2015</th>\n",
       "      <th>2016</th>\n",
       "      <th>2017</th>\n",
       "      <th>2018</th>\n",
       "      <th>2019</th>\n",
       "      <th>2020</th>\n",
       "    </tr>\n",
       "  </thead>\n",
       "  <tbody>\n",
       "    <tr>\n",
       "      <th>0</th>\n",
       "      <td>3455.902208</td>\n",
       "      <td>2071.70135</td>\n",
       "      <td>2156.118686</td>\n",
       "      <td>2440.83166</td>\n",
       "      <td>3320.60223</td>\n",
       "      <td>1865.927769</td>\n",
       "      <td>2048.75592</td>\n",
       "      <td>3288.881511</td>\n",
       "    </tr>\n",
       "  </tbody>\n",
       "</table>\n",
       "</div>"
      ],
      "text/plain": [
       "          2013        2014         2015        2016        2017         2018  \\\n",
       "0  3455.902208  2071.70135  2156.118686  2440.83166  3320.60223  1865.927769   \n",
       "\n",
       "         2019         2020  \n",
       "0  2048.75592  3288.881511  "
      ]
     },
     "execution_count": 180,
     "metadata": {},
     "output_type": "execute_result"
    }
   ],
   "source": [
    "# Maxi_Max - business_payoff\n",
    "difference = []\n",
    "\n",
    "zip_object = zip(maxi_min_values, business_payoff)\n",
    "for list1_i, list2_i in zip_object:\n",
    "    difference.append(list2_i-list1_i)\n",
    "    \n",
    "difference_df = pd.DataFrame(difference).T\n",
    "difference_df.columns = ['2013', '2014', '2015', '2016', '2017', '2018', '2019', '2020'] \n",
    " \n",
    "difference_df"
   ]
  },
  {
   "cell_type": "code",
   "execution_count": 174,
   "metadata": {},
   "outputs": [
    {
     "data": {
      "text/plain": [
       "[1, 1, 1, 2, 2, 3, 1, 1]"
      ]
     },
     "execution_count": 174,
     "metadata": {},
     "output_type": "execute_result"
    }
   ],
   "source": [
    "maxi_min_decisions"
   ]
  },
  {
   "cell_type": "code",
   "execution_count": 175,
   "metadata": {},
   "outputs": [
    {
     "data": {
      "text/plain": [
       "<AxesSubplot:ylabel='Frequency'>"
      ]
     },
     "execution_count": 175,
     "metadata": {},
     "output_type": "execute_result"
    },
    {
     "data": {
      "image/png": "[encoded data removed]",
      "text/plain": [
       "<Figure size 432x288 with 1 Axes>"
      ]
     },
     "metadata": {
      "needs_background": "light"
     },
     "output_type": "display_data"
    }
   ],
   "source": [
    "maxi_min_decision_df = pd.DataFrame(maxi_min_decisions)\n",
    "maxi_min_decision_df.plot.hist()"
   ]
  },
  {
   "cell_type": "markdown",
   "metadata": {},
   "source": [
    "# Sensitivity Analysis"
   ]
  },
  {
   "cell_type": "code",
   "execution_count": 184,
   "metadata": {},
   "outputs": [
    {
     "data": {
      "text/plain": [
       "array([[9240, 7941, 5260, 7163, 6172, 7803],\n",
       "       [8570, 9116, 8273, 8943, 7186, 9985],\n",
       "       [7173, 7598, 5474, 6573, 6873, 8024]], dtype=int64)"
      ]
     },
     "execution_count": 184,
     "metadata": {},
     "output_type": "execute_result"
    }
   ],
   "source": [
    "revenues_2021 = np.array(revenues_2021).reshape(3, 6)\n",
    "revenues_2021"
   ]
  },
  {
   "cell_type": "code",
   "execution_count": 187,
   "metadata": {},
   "outputs": [
    {
     "data": {
      "text/plain": [
       "array([0.41855265, 0.0805915 , 0.12690114, 0.12182171, 0.22560791,\n",
       "       0.02652509])"
      ]
     },
     "execution_count": 187,
     "metadata": {},
     "output_type": "execute_result"
    }
   ],
   "source": [
    "p_2021 = m_lvl_prob[7]\n",
    "p_2021"
   ]
  },
  {
   "cell_type": "code",
   "execution_count": 190,
   "metadata": {},
   "outputs": [
    {
     "data": {
      "text/plain": [
       "array([7646.9397993 , 8347.04448053, 6873.44380662])"
      ]
     },
     "execution_count": 190,
     "metadata": {},
     "output_type": "execute_result"
    }
   ],
   "source": [
    "emv_2021 = calc_EMV(p_2021, revenues_2021)\n",
    "emv_2021"
   ]
  },
  {
   "cell_type": "code",
   "execution_count": 204,
   "metadata": {},
   "outputs": [
    {
     "data": {
      "text/plain": [
       "[array([7646.9397993, 7646.9397993, 7646.9397993, 7646.9397993,\n",
       "        7646.9397993, 7646.9397993]),\n",
       " array([8347.04448053, 8347.04448053, 8347.04448053, 8347.04448053,\n",
       "        8347.04448053, 8347.04448053]),\n",
       " array([6873.44380662, 6873.44380662, 6873.44380662, 6873.44380662,\n",
       "        6873.44380662, 6873.44380662])]"
      ]
     },
     "execution_count": 204,
     "metadata": {},
     "output_type": "execute_result"
    },
    {
     "data": {
      "image/png": "[encoded data removed]",
      "text/plain": [
       "<Figure size 432x288 with 1 Axes>"
      ]
     },
     "metadata": {
      "needs_background": "light"
     },
     "output_type": "display_data"
    }
   ],
   "source": [
    "s_analysis = []\n",
    "for i in range(3):\n",
    "    s_analysis.append(emv_2021[i] * p_2021 + emv_2021[i] * (1-p_2021))\n",
    "    plt.plot(p_2021, s_analysis[i])\n",
    "s_analysis"
   ]
  },
  {
   "cell_type": "code",
   "execution_count": 200,
   "metadata": {},
   "outputs": [
    {
     "ename": "ValueError",
     "evalue": "x and y must have same first dimension, but have shapes (6,) and (3, 6)",
     "output_type": "error",
     "traceback": [
      "\u001b[1;31m---------------------------------------------------------------------------\u001b[0m",
      "\u001b[1;31mValueError\u001b[0m                                Traceback (most recent call last)",
      "\u001b[1;32m<ipython-input-200-f08712afcd9c>\u001b[0m in \u001b[0;36m<module>\u001b[1;34m\u001b[0m\n\u001b[1;32m----> 1\u001b[1;33m \u001b[0mplt\u001b[0m\u001b[1;33m.\u001b[0m\u001b[0mplot\u001b[0m\u001b[1;33m(\u001b[0m\u001b[0mp_2021\u001b[0m\u001b[1;33m,\u001b[0m \u001b[0ms_analysis\u001b[0m\u001b[1;33m)\u001b[0m\u001b[1;33m\u001b[0m\u001b[1;33m\u001b[0m\u001b[0m\n\u001b[0m",
      "\u001b[1;32m~\\anaconda3\\lib\\site-packages\\matplotlib\\pyplot.py\u001b[0m in \u001b[0;36mplot\u001b[1;34m(scalex, scaley, data, *args, **kwargs)\u001b[0m\n\u001b[0;32m   2838\u001b[0m \u001b[1;33m@\u001b[0m\u001b[0m_copy_docstring_and_deprecators\u001b[0m\u001b[1;33m(\u001b[0m\u001b[0mAxes\u001b[0m\u001b[1;33m.\u001b[0m\u001b[0mplot\u001b[0m\u001b[1;33m)\u001b[0m\u001b[1;33m\u001b[0m\u001b[1;33m\u001b[0m\u001b[0m\n\u001b[0;32m   2839\u001b[0m \u001b[1;32mdef\u001b[0m \u001b[0mplot\u001b[0m\u001b[1;33m(\u001b[0m\u001b[1;33m*\u001b[0m\u001b[0margs\u001b[0m\u001b[1;33m,\u001b[0m \u001b[0mscalex\u001b[0m\u001b[1;33m=\u001b[0m\u001b[1;32mTrue\u001b[0m\u001b[1;33m,\u001b[0m \u001b[0mscaley\u001b[0m\u001b[1;33m=\u001b[0m\u001b[1;32mTrue\u001b[0m\u001b[1;33m,\u001b[0m \u001b[0mdata\u001b[0m\u001b[1;33m=\u001b[0m\u001b[1;32mNone\u001b[0m\u001b[1;33m,\u001b[0m \u001b[1;33m**\u001b[0m\u001b[0mkwargs\u001b[0m\u001b[1;33m)\u001b[0m\u001b[1;33m:\u001b[0m\u001b[1;33m\u001b[0m\u001b[1;33m\u001b[0m\u001b[0m\n\u001b[1;32m-> 2840\u001b[1;33m     return gca().plot(\n\u001b[0m\u001b[0;32m   2841\u001b[0m         \u001b[1;33m*\u001b[0m\u001b[0margs\u001b[0m\u001b[1;33m,\u001b[0m \u001b[0mscalex\u001b[0m\u001b[1;33m=\u001b[0m\u001b[0mscalex\u001b[0m\u001b[1;33m,\u001b[0m \u001b[0mscaley\u001b[0m\u001b[1;33m=\u001b[0m\u001b[0mscaley\u001b[0m\u001b[1;33m,\u001b[0m\u001b[1;33m\u001b[0m\u001b[1;33m\u001b[0m\u001b[0m\n\u001b[0;32m   2842\u001b[0m         **({\"data\": data} if data is not None else {}), **kwargs)\n",
      "\u001b[1;32m~\\anaconda3\\lib\\site-packages\\matplotlib\\axes\\_axes.py\u001b[0m in \u001b[0;36mplot\u001b[1;34m(self, scalex, scaley, data, *args, **kwargs)\u001b[0m\n\u001b[0;32m   1741\u001b[0m         \"\"\"\n\u001b[0;32m   1742\u001b[0m         \u001b[0mkwargs\u001b[0m \u001b[1;33m=\u001b[0m \u001b[0mcbook\u001b[0m\u001b[1;33m.\u001b[0m\u001b[0mnormalize_kwargs\u001b[0m\u001b[1;33m(\u001b[0m\u001b[0mkwargs\u001b[0m\u001b[1;33m,\u001b[0m \u001b[0mmlines\u001b[0m\u001b[1;33m.\u001b[0m\u001b[0mLine2D\u001b[0m\u001b[1;33m)\u001b[0m\u001b[1;33m\u001b[0m\u001b[1;33m\u001b[0m\u001b[0m\n\u001b[1;32m-> 1743\u001b[1;33m         \u001b[0mlines\u001b[0m \u001b[1;33m=\u001b[0m \u001b[1;33m[\u001b[0m\u001b[1;33m*\u001b[0m\u001b[0mself\u001b[0m\u001b[1;33m.\u001b[0m\u001b[0m_get_lines\u001b[0m\u001b[1;33m(\u001b[0m\u001b[1;33m*\u001b[0m\u001b[0margs\u001b[0m\u001b[1;33m,\u001b[0m \u001b[0mdata\u001b[0m\u001b[1;33m=\u001b[0m\u001b[0mdata\u001b[0m\u001b[1;33m,\u001b[0m \u001b[1;33m**\u001b[0m\u001b[0mkwargs\u001b[0m\u001b[1;33m)\u001b[0m\u001b[1;33m]\u001b[0m\u001b[1;33m\u001b[0m\u001b[1;33m\u001b[0m\u001b[0m\n\u001b[0m\u001b[0;32m   1744\u001b[0m         \u001b[1;32mfor\u001b[0m \u001b[0mline\u001b[0m \u001b[1;32min\u001b[0m \u001b[0mlines\u001b[0m\u001b[1;33m:\u001b[0m\u001b[1;33m\u001b[0m\u001b[1;33m\u001b[0m\u001b[0m\n\u001b[0;32m   1745\u001b[0m             \u001b[0mself\u001b[0m\u001b[1;33m.\u001b[0m\u001b[0madd_line\u001b[0m\u001b[1;33m(\u001b[0m\u001b[0mline\u001b[0m\u001b[1;33m)\u001b[0m\u001b[1;33m\u001b[0m\u001b[1;33m\u001b[0m\u001b[0m\n",
      "\u001b[1;32m~\\anaconda3\\lib\\site-packages\\matplotlib\\axes\\_base.py\u001b[0m in \u001b[0;36m__call__\u001b[1;34m(self, data, *args, **kwargs)\u001b[0m\n\u001b[0;32m    271\u001b[0m                 \u001b[0mthis\u001b[0m \u001b[1;33m+=\u001b[0m \u001b[0margs\u001b[0m\u001b[1;33m[\u001b[0m\u001b[1;36m0\u001b[0m\u001b[1;33m]\u001b[0m\u001b[1;33m,\u001b[0m\u001b[1;33m\u001b[0m\u001b[1;33m\u001b[0m\u001b[0m\n\u001b[0;32m    272\u001b[0m                 \u001b[0margs\u001b[0m \u001b[1;33m=\u001b[0m \u001b[0margs\u001b[0m\u001b[1;33m[\u001b[0m\u001b[1;36m1\u001b[0m\u001b[1;33m:\u001b[0m\u001b[1;33m]\u001b[0m\u001b[1;33m\u001b[0m\u001b[1;33m\u001b[0m\u001b[0m\n\u001b[1;32m--> 273\u001b[1;33m             \u001b[1;32myield\u001b[0m \u001b[1;32mfrom\u001b[0m \u001b[0mself\u001b[0m\u001b[1;33m.\u001b[0m\u001b[0m_plot_args\u001b[0m\u001b[1;33m(\u001b[0m\u001b[0mthis\u001b[0m\u001b[1;33m,\u001b[0m \u001b[0mkwargs\u001b[0m\u001b[1;33m)\u001b[0m\u001b[1;33m\u001b[0m\u001b[1;33m\u001b[0m\u001b[0m\n\u001b[0m\u001b[0;32m    274\u001b[0m \u001b[1;33m\u001b[0m\u001b[0m\n\u001b[0;32m    275\u001b[0m     \u001b[1;32mdef\u001b[0m \u001b[0mget_next_color\u001b[0m\u001b[1;33m(\u001b[0m\u001b[0mself\u001b[0m\u001b[1;33m)\u001b[0m\u001b[1;33m:\u001b[0m\u001b[1;33m\u001b[0m\u001b[1;33m\u001b[0m\u001b[0m\n",
      "\u001b[1;32m~\\anaconda3\\lib\\site-packages\\matplotlib\\axes\\_base.py\u001b[0m in \u001b[0;36m_plot_args\u001b[1;34m(self, tup, kwargs)\u001b[0m\n\u001b[0;32m    397\u001b[0m \u001b[1;33m\u001b[0m\u001b[0m\n\u001b[0;32m    398\u001b[0m         \u001b[1;32mif\u001b[0m \u001b[0mx\u001b[0m\u001b[1;33m.\u001b[0m\u001b[0mshape\u001b[0m\u001b[1;33m[\u001b[0m\u001b[1;36m0\u001b[0m\u001b[1;33m]\u001b[0m \u001b[1;33m!=\u001b[0m \u001b[0my\u001b[0m\u001b[1;33m.\u001b[0m\u001b[0mshape\u001b[0m\u001b[1;33m[\u001b[0m\u001b[1;36m0\u001b[0m\u001b[1;33m]\u001b[0m\u001b[1;33m:\u001b[0m\u001b[1;33m\u001b[0m\u001b[1;33m\u001b[0m\u001b[0m\n\u001b[1;32m--> 399\u001b[1;33m             raise ValueError(f\"x and y must have same first dimension, but \"\n\u001b[0m\u001b[0;32m    400\u001b[0m                              f\"have shapes {x.shape} and {y.shape}\")\n\u001b[0;32m    401\u001b[0m         \u001b[1;32mif\u001b[0m \u001b[0mx\u001b[0m\u001b[1;33m.\u001b[0m\u001b[0mndim\u001b[0m \u001b[1;33m>\u001b[0m \u001b[1;36m2\u001b[0m \u001b[1;32mor\u001b[0m \u001b[0my\u001b[0m\u001b[1;33m.\u001b[0m\u001b[0mndim\u001b[0m \u001b[1;33m>\u001b[0m \u001b[1;36m2\u001b[0m\u001b[1;33m:\u001b[0m\u001b[1;33m\u001b[0m\u001b[1;33m\u001b[0m\u001b[0m\n",
      "\u001b[1;31mValueError\u001b[0m: x and y must have same first dimension, but have shapes (6,) and (3, 6)"
     ]
    },
    {
     "data": {
      "image/png": "[encoded data removed]",
      "text/plain": [
       "<Figure size 432x288 with 1 Axes>"
      ]
     },
     "metadata": {
      "needs_background": "light"
     },
     "output_type": "display_data"
    }
   ],
   "source": []
  }
 ],
 "metadata": {
  "kernelspec": {
   "display_name": "Python 3",
   "language": "python",
   "name": "python3"
  },
  "language_info": {
   "codemirror_mode": {
    "name": "ipython",
    "version": 3
   },
   "file_extension": ".py",
   "mimetype": "text/x-python",
   "name": "python",
   "nbconvert_exporter": "python",
   "pygments_lexer": "ipython3",
   "version": "3.8.5"
  }
 },
 "nbformat": 4,
 "nbformat_minor": 4
}
